{
 "cells": [
  {
   "cell_type": "markdown",
   "id": "fbd669f4",
   "metadata": {},
   "source": [
    "# polynomial regression"
   ]
  },
  {
   "cell_type": "markdown",
   "id": "28080721",
   "metadata": {},
   "source": [
    "**From Preprocessing, import PolynomialFeatures, which will help us transform our original data set by adding polynomial features**\n",
    "\n",
    "We will go from the equation in the form (shown here as if we only had one x feature):\n",
    "\n",
    "$$\\hat{y} = \\beta_0 + \\beta_1x_1 + \\epsilon $$\n",
    "\n",
    "and create more features from the original x feature for some *d* degree of polynomial.\n",
    "\n",
    "$$\\hat{y} = \\beta_0 + \\beta_1x_1 + \\beta_1x^2_1 +  ... + \\beta_dx^d_1 + \\epsilon$$\n",
    "\n",
    "Then we can call the linear regression model on it, since in reality, we're just treating these new polynomial features x^2, x^3, ... x^d as new features. Obviously we need to be careful about choosing the correct value of *d* , the degree of the model. Our metric results on the test set will help us with this!\n",
    "\n",
    "**The other thing to note here is we have multiple X features, not just a single one as in the formula above, so in reality, the PolynomialFeatures will also take *interaction* terms into account for example, if an input sample is two dimensional and of the form [a, b], the degree-2 polynomial features are [1, a, b, a^2, ab, b^2].**"
   ]
  },
  {
   "cell_type": "code",
   "execution_count": 1,
   "id": "c7cb53c6",
   "metadata": {},
   "outputs": [],
   "source": [
    "import numpy as np\n",
    "import pandas as pd\n",
    "import matplotlib.pyplot as plt\n",
    "import seaborn as sns"
   ]
  },
  {
   "cell_type": "code",
   "execution_count": 2,
   "id": "10d4c371",
   "metadata": {},
   "outputs": [],
   "source": [
    "df = pd.read_csv(\"Advertising.csv\")"
   ]
  },
  {
   "cell_type": "code",
   "execution_count": 3,
   "id": "c264cf3d",
   "metadata": {},
   "outputs": [
    {
     "data": {
      "text/html": [
       "<div>\n",
       "<style scoped>\n",
       "    .dataframe tbody tr th:only-of-type {\n",
       "        vertical-align: middle;\n",
       "    }\n",
       "\n",
       "    .dataframe tbody tr th {\n",
       "        vertical-align: top;\n",
       "    }\n",
       "\n",
       "    .dataframe thead th {\n",
       "        text-align: right;\n",
       "    }\n",
       "</style>\n",
       "<table border=\"1\" class=\"dataframe\">\n",
       "  <thead>\n",
       "    <tr style=\"text-align: right;\">\n",
       "      <th></th>\n",
       "      <th>TV</th>\n",
       "      <th>Radio</th>\n",
       "      <th>Newspaper</th>\n",
       "      <th>Sales</th>\n",
       "    </tr>\n",
       "  </thead>\n",
       "  <tbody>\n",
       "    <tr>\n",
       "      <th>0</th>\n",
       "      <td>230.1</td>\n",
       "      <td>37.8</td>\n",
       "      <td>69.2</td>\n",
       "      <td>22.1</td>\n",
       "    </tr>\n",
       "    <tr>\n",
       "      <th>1</th>\n",
       "      <td>44.5</td>\n",
       "      <td>39.3</td>\n",
       "      <td>45.1</td>\n",
       "      <td>10.4</td>\n",
       "    </tr>\n",
       "    <tr>\n",
       "      <th>2</th>\n",
       "      <td>17.2</td>\n",
       "      <td>45.9</td>\n",
       "      <td>69.3</td>\n",
       "      <td>12.0</td>\n",
       "    </tr>\n",
       "    <tr>\n",
       "      <th>3</th>\n",
       "      <td>151.5</td>\n",
       "      <td>41.3</td>\n",
       "      <td>58.5</td>\n",
       "      <td>16.5</td>\n",
       "    </tr>\n",
       "    <tr>\n",
       "      <th>4</th>\n",
       "      <td>180.8</td>\n",
       "      <td>10.8</td>\n",
       "      <td>58.4</td>\n",
       "      <td>17.9</td>\n",
       "    </tr>\n",
       "  </tbody>\n",
       "</table>\n",
       "</div>"
      ],
      "text/plain": [
       "      TV  Radio  Newspaper  Sales\n",
       "0  230.1   37.8       69.2   22.1\n",
       "1   44.5   39.3       45.1   10.4\n",
       "2   17.2   45.9       69.3   12.0\n",
       "3  151.5   41.3       58.5   16.5\n",
       "4  180.8   10.8       58.4   17.9"
      ]
     },
     "execution_count": 3,
     "metadata": {},
     "output_type": "execute_result"
    }
   ],
   "source": [
    "df.head()"
   ]
  },
  {
   "cell_type": "code",
   "execution_count": 4,
   "id": "6853b8d3",
   "metadata": {},
   "outputs": [],
   "source": [
    "# Everything BUT the sales column\n",
    "X = df.drop('Sales',axis=1)"
   ]
  },
  {
   "cell_type": "code",
   "execution_count": 5,
   "id": "f4585ae5",
   "metadata": {},
   "outputs": [],
   "source": [
    "y = df['Sales']"
   ]
  },
  {
   "cell_type": "code",
   "execution_count": 6,
   "id": "6748afa0",
   "metadata": {},
   "outputs": [],
   "source": [
    "from sklearn.preprocessing import PolynomialFeatures"
   ]
  },
  {
   "cell_type": "code",
   "execution_count": 7,
   "id": "ffac84fa",
   "metadata": {},
   "outputs": [],
   "source": [
    "polynomial_converter = PolynomialFeatures(degree=2,include_bias=False)"
   ]
  },
  {
   "cell_type": "code",
   "execution_count": 8,
   "id": "d4ff6b4b",
   "metadata": {},
   "outputs": [],
   "source": [
    "# Converter \"fits\" to data, in this case, reads in every X column\n",
    "# Then it \"transforms\" and ouputs the new polynomial data\n",
    "poly_features = polynomial_converter.fit_transform(X)"
   ]
  },
  {
   "cell_type": "code",
   "execution_count": 9,
   "id": "c8f1b39a",
   "metadata": {},
   "outputs": [
    {
     "data": {
      "text/plain": [
       "(200, 9)"
      ]
     },
     "execution_count": 9,
     "metadata": {},
     "output_type": "execute_result"
    }
   ],
   "source": [
    "poly_features.shape"
   ]
  },
  {
   "cell_type": "code",
   "execution_count": 10,
   "id": "9cdaefe1",
   "metadata": {},
   "outputs": [
    {
     "data": {
      "text/plain": [
       "(200, 3)"
      ]
     },
     "execution_count": 10,
     "metadata": {},
     "output_type": "execute_result"
    }
   ],
   "source": [
    "X.shape"
   ]
  },
  {
   "cell_type": "code",
   "execution_count": 11,
   "id": "5bc41067",
   "metadata": {},
   "outputs": [
    {
     "data": {
      "text/plain": [
       "(200,)"
      ]
     },
     "execution_count": 11,
     "metadata": {},
     "output_type": "execute_result"
    }
   ],
   "source": [
    "y.shape"
   ]
  },
  {
   "cell_type": "code",
   "execution_count": 12,
   "id": "1661ede1",
   "metadata": {},
   "outputs": [
    {
     "data": {
      "text/plain": [
       "TV           230.1\n",
       "Radio         37.8\n",
       "Newspaper     69.2\n",
       "Name: 0, dtype: float64"
      ]
     },
     "execution_count": 12,
     "metadata": {},
     "output_type": "execute_result"
    }
   ],
   "source": [
    "X.iloc[0]"
   ]
  },
  {
   "cell_type": "code",
   "execution_count": 13,
   "id": "15a7f1ac",
   "metadata": {},
   "outputs": [
    {
     "data": {
      "text/plain": [
       "array([2.301000e+02, 3.780000e+01, 6.920000e+01, 5.294601e+04,\n",
       "       8.697780e+03, 1.592292e+04, 1.428840e+03, 2.615760e+03,\n",
       "       4.788640e+03])"
      ]
     },
     "execution_count": 13,
     "metadata": {},
     "output_type": "execute_result"
    }
   ],
   "source": [
    "#first 3 are regular x values ,and remaining are 3 interaction terms and 3 square terms\n",
    "poly_features[0]"
   ]
  },
  {
   "cell_type": "code",
   "execution_count": 14,
   "id": "e698ecea",
   "metadata": {},
   "outputs": [
    {
     "data": {
      "text/plain": [
       "array([230.1,  37.8,  69.2])"
      ]
     },
     "execution_count": 14,
     "metadata": {},
     "output_type": "execute_result"
    }
   ],
   "source": [
    "poly_features[0][:3]"
   ]
  },
  {
   "cell_type": "code",
   "execution_count": 15,
   "id": "34408f9e",
   "metadata": {},
   "outputs": [
    {
     "data": {
      "text/plain": [
       "array([52946.01,  1428.84,  4788.64])"
      ]
     },
     "execution_count": 15,
     "metadata": {},
     "output_type": "execute_result"
    }
   ],
   "source": [
    "poly_features[0][:3]**2"
   ]
  },
  {
   "cell_type": "code",
   "execution_count": 16,
   "id": "3b55f95e",
   "metadata": {},
   "outputs": [
    {
     "data": {
      "text/plain": [
       "8697.779999999999"
      ]
     },
     "execution_count": 16,
     "metadata": {},
     "output_type": "execute_result"
    }
   ],
   "source": [
    "230.1*37.8   # interaction term between TV and radio"
   ]
  },
  {
   "cell_type": "code",
   "execution_count": 17,
   "id": "aa6431f8",
   "metadata": {},
   "outputs": [
    {
     "data": {
      "text/plain": [
       "2615.7599999999998"
      ]
     },
     "execution_count": 17,
     "metadata": {},
     "output_type": "execute_result"
    }
   ],
   "source": [
    "37.8*69.2   # interaction term between radio and newspaper"
   ]
  },
  {
   "cell_type": "code",
   "execution_count": 18,
   "id": "45e81ba6",
   "metadata": {},
   "outputs": [
    {
     "data": {
      "text/plain": [
       "15922.92"
      ]
     },
     "execution_count": 18,
     "metadata": {},
     "output_type": "execute_result"
    }
   ],
   "source": [
    "230.1*69.2  ## interaction term between TV and newspaper"
   ]
  },
  {
   "cell_type": "code",
   "execution_count": 19,
   "id": "ed9feb86",
   "metadata": {},
   "outputs": [],
   "source": [
    "polynomial_converter = PolynomialFeatures(degree=3,include_bias=False)"
   ]
  },
  {
   "cell_type": "code",
   "execution_count": 20,
   "id": "630ef973",
   "metadata": {},
   "outputs": [],
   "source": [
    "poly_features = polynomial_converter.fit_transform(X)"
   ]
  },
  {
   "cell_type": "code",
   "execution_count": 21,
   "id": "390c36fe",
   "metadata": {},
   "outputs": [
    {
     "data": {
      "text/plain": [
       "(200, 19)"
      ]
     },
     "execution_count": 21,
     "metadata": {},
     "output_type": "execute_result"
    }
   ],
   "source": [
    "poly_features.shape"
   ]
  },
  {
   "cell_type": "code",
   "execution_count": 22,
   "id": "eef2ddc1",
   "metadata": {},
   "outputs": [
    {
     "data": {
      "text/plain": [
       "array([2.30100000e+02, 3.78000000e+01, 6.92000000e+01, 5.29460100e+04,\n",
       "       8.69778000e+03, 1.59229200e+04, 1.42884000e+03, 2.61576000e+03,\n",
       "       4.78864000e+03, 1.21828769e+07, 2.00135918e+06, 3.66386389e+06,\n",
       "       3.28776084e+05, 6.01886376e+05, 1.10186606e+06, 5.40101520e+04,\n",
       "       9.88757280e+04, 1.81010592e+05, 3.31373888e+05])"
      ]
     },
     "execution_count": 22,
     "metadata": {},
     "output_type": "execute_result"
    }
   ],
   "source": [
    "poly_features[0]"
   ]
  },
  {
   "cell_type": "code",
   "execution_count": 23,
   "id": "488a0b85",
   "metadata": {},
   "outputs": [
    {
     "data": {
      "text/plain": [
       "array([230.1,  37.8,  69.2])"
      ]
     },
     "execution_count": 23,
     "metadata": {},
     "output_type": "execute_result"
    }
   ],
   "source": [
    "poly_features[0][:3]"
   ]
  },
  {
   "cell_type": "markdown",
   "id": "f6a5755b",
   "metadata": {},
   "source": [
    "## Train | Test Split\n",
    "\n",
    "Make sure you have watched the Machine Learning Overview videos on Supervised Learning to understand why we do this step"
   ]
  },
  {
   "cell_type": "code",
   "execution_count": 24,
   "id": "9b7a042b",
   "metadata": {},
   "outputs": [],
   "source": [
    "polynomial_converter = PolynomialFeatures(degree=2,include_bias=False)"
   ]
  },
  {
   "cell_type": "code",
   "execution_count": 25,
   "id": "08b7cfe5",
   "metadata": {},
   "outputs": [],
   "source": [
    "poly_features = polynomial_converter.fit_transform(X)"
   ]
  },
  {
   "cell_type": "code",
   "execution_count": 26,
   "id": "5b555435",
   "metadata": {},
   "outputs": [
    {
     "data": {
      "text/plain": [
       "(200, 9)"
      ]
     },
     "execution_count": 26,
     "metadata": {},
     "output_type": "execute_result"
    }
   ],
   "source": [
    "poly_features.shape"
   ]
  },
  {
   "cell_type": "code",
   "execution_count": 27,
   "id": "b5d6159a",
   "metadata": {},
   "outputs": [],
   "source": [
    "from sklearn.model_selection import train_test_split"
   ]
  },
  {
   "cell_type": "code",
   "execution_count": 28,
   "id": "7c77f06e",
   "metadata": {},
   "outputs": [],
   "source": [
    "# random_state: \n",
    "# https://stackoverflow.com/questions/28064634/random-state-pseudo-random-number-in-scikit-learn\n",
    "X_train, X_test, y_train, y_test = train_test_split(poly_features, y, test_size=0.3, random_state=101)"
   ]
  },
  {
   "cell_type": "markdown",
   "id": "377aa7d6",
   "metadata": {},
   "source": [
    "### Model for fitting on Polynomial Data\n",
    "\n",
    "#### Create an instance of the model with parameters"
   ]
  },
  {
   "cell_type": "code",
   "execution_count": 29,
   "id": "a163c663",
   "metadata": {},
   "outputs": [],
   "source": [
    "from sklearn.linear_model import LinearRegression"
   ]
  },
  {
   "cell_type": "code",
   "execution_count": 30,
   "id": "d1d956f9",
   "metadata": {},
   "outputs": [],
   "source": [
    "model = LinearRegression(fit_intercept=True)"
   ]
  },
  {
   "cell_type": "markdown",
   "id": "3727fa4e",
   "metadata": {},
   "source": [
    "### Fit/Train the Model on the training data\n",
    "\n",
    "**Make sure you only fit to the training data, in order to fairly evaluate your model's performance on future data**"
   ]
  },
  {
   "cell_type": "code",
   "execution_count": 31,
   "id": "500d780c",
   "metadata": {},
   "outputs": [
    {
     "data": {
      "text/plain": [
       "LinearRegression()"
      ]
     },
     "execution_count": 31,
     "metadata": {},
     "output_type": "execute_result"
    }
   ],
   "source": [
    "model.fit(X_train,y_train)"
   ]
  },
  {
   "cell_type": "markdown",
   "id": "f1ecd38b",
   "metadata": {},
   "source": [
    "# Evaluation on the Test Set"
   ]
  },
  {
   "cell_type": "code",
   "execution_count": 32,
   "id": "a8f46887",
   "metadata": {},
   "outputs": [],
   "source": [
    "test_predictions = model.predict(X_test)"
   ]
  },
  {
   "cell_type": "code",
   "execution_count": 33,
   "id": "5fd4293d",
   "metadata": {},
   "outputs": [],
   "source": [
    "from sklearn.metrics import mean_absolute_error,mean_squared_error"
   ]
  },
  {
   "cell_type": "code",
   "execution_count": 34,
   "id": "16bc82b1",
   "metadata": {},
   "outputs": [],
   "source": [
    "MAE = mean_absolute_error(y_test,test_predictions)\n",
    "MSE = mean_squared_error(y_test,test_predictions)\n",
    "RMSE = np.sqrt(MSE)"
   ]
  },
  {
   "cell_type": "code",
   "execution_count": 35,
   "id": "753c3e13",
   "metadata": {},
   "outputs": [
    {
     "data": {
      "text/plain": [
       "1.1548027507562801"
      ]
     },
     "execution_count": 35,
     "metadata": {},
     "output_type": "execute_result"
    }
   ],
   "source": [
    "MAE"
   ]
  },
  {
   "cell_type": "code",
   "execution_count": 36,
   "id": "600ea349",
   "metadata": {},
   "outputs": [
    {
     "data": {
      "text/plain": [
       "2.1303839221203615"
      ]
     },
     "execution_count": 36,
     "metadata": {},
     "output_type": "execute_result"
    }
   ],
   "source": [
    "MSE"
   ]
  },
  {
   "cell_type": "code",
   "execution_count": 37,
   "id": "21c393ea",
   "metadata": {},
   "outputs": [
    {
     "data": {
      "text/plain": [
       "1.4595834755574488"
      ]
     },
     "execution_count": 37,
     "metadata": {},
     "output_type": "execute_result"
    }
   ],
   "source": [
    "RMSE"
   ]
  },
  {
   "cell_type": "code",
   "execution_count": 38,
   "id": "eb21241f",
   "metadata": {},
   "outputs": [
    {
     "data": {
      "text/plain": [
       "15.130500000000005"
      ]
     },
     "execution_count": 38,
     "metadata": {},
     "output_type": "execute_result"
    }
   ],
   "source": [
    "df['Sales'].mean()"
   ]
  },
  {
   "cell_type": "code",
   "execution_count": 39,
   "id": "dc34062d",
   "metadata": {},
   "outputs": [],
   "source": [
    "MAE=1.6480589869746525\n",
    "MSE= 4.0"
   ]
  },
  {
   "cell_type": "markdown",
   "id": "b7910e1c",
   "metadata": {},
   "source": [
    "### Comparison with Simple Linear Regression\n",
    "\n",
    "**Results on the Test Set (Note: Use the same Random Split to fairly compare!)**\n",
    "\n",
    "* Simple Linear Regression:\n",
    "    * MAE: 1.64\n",
    "    * RMSE: 2.0\n",
    "\n",
    "* Polynomial 2-degree:\n",
    "    * MAE: 1.154802750756379\n",
    "    * RMSE: 1.4595"
   ]
  },
  {
   "cell_type": "markdown",
   "id": "ec221237",
   "metadata": {},
   "source": [
    "---\n",
    "---\n",
    "\n",
    "## Choosing a Model\n",
    "\n",
    "### Adjusting Parameters\n",
    "\n",
    "Are we satisfied with this performance? Perhaps a higher order would improve performance even more! But how high is too high? It is now up to us to possibly go back and adjust our model and parameters, let's explore higher order Polynomials in a loop and plot out their error. This will nicely lead us into a discussion on Overfitting.\n",
    "\n",
    "Let's use a for loop to do the following:\n",
    "\n",
    "1. Create different order polynomial X data\n",
    "2. Split that polynomial data for train/test\n",
    "3. Fit on the training data\n",
    "4. Report back the metrics on *both* the train and test results\n",
    "5. Plot these results and explore overfitting"
   ]
  },
  {
   "cell_type": "code",
   "execution_count": 40,
   "id": "1a8eb16c",
   "metadata": {},
   "outputs": [],
   "source": [
    "# TRAINING ERROR PER DEGREE\n",
    "train_rmse_errors = []\n",
    "# TEST ERROR PER DEGREE\n",
    "test_rmse_errors = []\n",
    "\n",
    "for d in range(1,10):\n",
    "    \n",
    "    # CREATE POLY DATA SET FOR DEGREE \"d\"\n",
    "    polynomial_converter = PolynomialFeatures(degree=d,include_bias=False)\n",
    "    poly_features = polynomial_converter.fit_transform(X)\n",
    "    \n",
    "    # SPLIT THIS NEW POLY DATA SET\n",
    "    X_train, X_test, y_train, y_test = train_test_split(poly_features, y, test_size=0.3, random_state=101)\n",
    "    \n",
    "    # TRAIN ON THIS NEW POLY SET\n",
    "    model = LinearRegression(fit_intercept=True)\n",
    "    model.fit(X_train,y_train)\n",
    "    \n",
    "    # PREDICT ON BOTH TRAIN AND TEST\n",
    "    train_pred = model.predict(X_train)\n",
    "    test_pred = model.predict(X_test)\n",
    "    \n",
    "    # Calculate Errors\n",
    "    \n",
    "    # Errors on Train Set\n",
    "    train_RMSE = np.sqrt(mean_squared_error(y_train,train_pred))\n",
    "    \n",
    "    # Errors on Test Set\n",
    "    test_RMSE = np.sqrt(mean_squared_error(y_test,test_pred))\n",
    "\n",
    "    # Append errors to lists for plotting later\n",
    "    \n",
    "   \n",
    "    train_rmse_errors.append(train_RMSE)\n",
    "    test_rmse_errors.append(test_RMSE)"
   ]
  },
  {
   "cell_type": "code",
   "execution_count": 41,
   "id": "c8f7b359",
   "metadata": {},
   "outputs": [
    {
     "data": {
      "text/plain": [
       "[1.6320782925717716,\n",
       " 1.3081158210734072,\n",
       " 1.2513012489134379,\n",
       " 1.095670581261268,\n",
       " 0.9120298251879819,\n",
       " 0.7728075105509415,\n",
       " 10.621869140195534,\n",
       " 0.3024227340906373,\n",
       " 0.19714345926688742]"
      ]
     },
     "execution_count": 41,
     "metadata": {},
     "output_type": "execute_result"
    }
   ],
   "source": [
    "train_rmse_errors"
   ]
  },
  {
   "cell_type": "code",
   "execution_count": 42,
   "id": "28ecb294",
   "metadata": {},
   "outputs": [
    {
     "data": {
      "text/plain": [
       "[1.6936855180040054,\n",
       " 1.4595834755574488,\n",
       " 1.4319246007027941,\n",
       " 1.3944536277362904,\n",
       " 3.2350565852467046,\n",
       " 42.57773696299314,\n",
       " 3394.0205700830716,\n",
       " 13932.010779455883,\n",
       " 244842.93341842142]"
      ]
     },
     "execution_count": 42,
     "metadata": {},
     "output_type": "execute_result"
    }
   ],
   "source": [
    "test_rmse_errors\n"
   ]
  },
  {
   "cell_type": "code",
   "execution_count": 43,
   "id": "133c12f6",
   "metadata": {},
   "outputs": [
    {
     "data": {
      "text/plain": [
       "<matplotlib.legend.Legend at 0x194526b4640>"
      ]
     },
     "execution_count": 43,
     "metadata": {},
     "output_type": "execute_result"
    },
    {
     "data": {
      "image/png": "[encoded data removed]",
      "text/plain": [
       "<Figure size 432x288 with 1 Axes>"
      ]
     },
     "metadata": {
      "needs_background": "light"
     },
     "output_type": "display_data"
    }
   ],
   "source": [
    "plt.plot(range(1,6),train_rmse_errors[:5],label='TRAIN')\n",
    "plt.plot(range(1,6),test_rmse_errors[:5],label='TEST')\n",
    "plt.xlabel(\"Polynomial Complexity\")\n",
    "plt.ylabel(\"RMSE\")\n",
    "plt.legend()"
   ]
  },
  {
   "cell_type": "code",
   "execution_count": 44,
   "id": "7b47de40",
   "metadata": {},
   "outputs": [
    {
     "data": {
      "text/plain": [
       "<matplotlib.legend.Legend at 0x1945527ea60>"
      ]
     },
     "execution_count": 44,
     "metadata": {},
     "output_type": "execute_result"
    },
    {
     "data": {
      "image/png": "[encoded data removed]",
      "text/plain": [
       "<Figure size 432x288 with 1 Axes>"
      ]
     },
     "metadata": {
      "needs_background": "light"
     },
     "output_type": "display_data"
    }
   ],
   "source": [
    "plt.plot(range(1,10),train_rmse_errors,label='TRAIN')\n",
    "plt.plot(range(1,10),test_rmse_errors,label='TEST')\n",
    "plt.xlabel(\"Polynomial Complexity\")\n",
    "plt.ylabel(\"RMSE\")\n",
    "plt.legend()"
   ]
  },
  {
   "cell_type": "markdown",
   "id": "55703236",
   "metadata": {},
   "source": [
    "## Finalizing Model Choice\n",
    "\n",
    "There are now 2 things we need to save, the Polynomial Feature creator AND the model itself. Let's explore how we would proceed from here:\n",
    "\n",
    "1. Choose final parameters based on test metrics\n",
    "2. Retrain on all data\n",
    "3. Save Polynomial Converter object\n",
    "4. Save model"
   ]
  },
  {
   "cell_type": "code",
   "execution_count": 45,
   "id": "8444974e",
   "metadata": {},
   "outputs": [],
   "source": [
    "# Based on our chart, could have also been degree=4, but \n",
    "# it is better to be on the safe side of complexity\n",
    "final_poly_converter = PolynomialFeatures(degree=3,include_bias=False)"
   ]
  },
  {
   "cell_type": "code",
   "execution_count": 46,
   "id": "66af266a",
   "metadata": {},
   "outputs": [],
   "source": [
    "final_model = LinearRegression()"
   ]
  },
  {
   "cell_type": "code",
   "execution_count": 47,
   "id": "1f01eddf",
   "metadata": {},
   "outputs": [
    {
     "data": {
      "text/plain": [
       "LinearRegression()"
      ]
     },
     "execution_count": 47,
     "metadata": {},
     "output_type": "execute_result"
    }
   ],
   "source": [
    "final_model.fit(final_poly_converter.fit_transform(X),y)"
   ]
  },
  {
   "cell_type": "markdown",
   "id": "3965b9ce",
   "metadata": {},
   "source": [
    "## Saving Model and Converter"
   ]
  },
  {
   "cell_type": "code",
   "execution_count": 48,
   "id": "8e551dcc",
   "metadata": {},
   "outputs": [],
   "source": [
    "from joblib import dump, load"
   ]
  },
  {
   "cell_type": "code",
   "execution_count": 49,
   "id": "94e23114",
   "metadata": {},
   "outputs": [
    {
     "data": {
      "text/plain": [
       "['sales_poly_new_model.joblib']"
      ]
     },
     "execution_count": 49,
     "metadata": {},
     "output_type": "execute_result"
    }
   ],
   "source": [
    "dump(final_model, 'sales_poly_new_model.joblib') "
   ]
  },
  {
   "cell_type": "code",
   "execution_count": 50,
   "id": "750ba328",
   "metadata": {},
   "outputs": [
    {
     "data": {
      "text/plain": [
       "['poly_converter_new.joblib']"
      ]
     },
     "execution_count": 50,
     "metadata": {},
     "output_type": "execute_result"
    }
   ],
   "source": [
    "dump(final_poly_converter,'poly_converter_new.joblib')"
   ]
  },
  {
   "cell_type": "markdown",
   "id": "32596552",
   "metadata": {},
   "source": [
    "# Deployment and Predictions"
   ]
  },
  {
   "cell_type": "markdown",
   "id": "23d18ce9",
   "metadata": {},
   "source": [
    "# Prediction on New Data\n",
    "\n",
    "Recall that we will need to **convert** any incoming data to polynomial data, since that is what our model is trained on. We simply load up our saved converter object and only call **.transform()** on the new data, since we're not refitting to a new data set.\n",
    "\n",
    "**Our next ad campaign will have a total spend of 149k on TV, 22k on Radio, and 12k on Newspaper Ads, how many units could we expect to sell as a result of this?**"
   ]
  },
  {
   "cell_type": "code",
   "execution_count": 51,
   "id": "da9d37f3",
   "metadata": {},
   "outputs": [],
   "source": [
    "loaded_poly = load('poly_converter_new.joblib')\n",
    "loaded_model = load('sales_poly_new_model.joblib')"
   ]
  },
  {
   "cell_type": "code",
   "execution_count": 52,
   "id": "c84b4635",
   "metadata": {},
   "outputs": [],
   "source": [
    "campaign = [[149,22,12]]"
   ]
  },
  {
   "cell_type": "code",
   "execution_count": 53,
   "id": "91e6fb5f",
   "metadata": {},
   "outputs": [],
   "source": [
    "campaign_poly = loaded_poly.transform(campaign)"
   ]
  },
  {
   "cell_type": "code",
   "execution_count": 54,
   "id": "557d7b13",
   "metadata": {},
   "outputs": [
    {
     "data": {
      "text/plain": [
       "array([[1.490000e+02, 2.200000e+01, 1.200000e+01, 2.220100e+04,\n",
       "        3.278000e+03, 1.788000e+03, 4.840000e+02, 2.640000e+02,\n",
       "        1.440000e+02, 3.307949e+06, 4.884220e+05, 2.664120e+05,\n",
       "        7.211600e+04, 3.933600e+04, 2.145600e+04, 1.064800e+04,\n",
       "        5.808000e+03, 3.168000e+03, 1.728000e+03]])"
      ]
     },
     "execution_count": 54,
     "metadata": {},
     "output_type": "execute_result"
    }
   ],
   "source": [
    "campaign_poly\n"
   ]
  },
  {
   "cell_type": "code",
   "execution_count": 55,
   "id": "2672b632",
   "metadata": {},
   "outputs": [
    {
     "data": {
      "text/plain": [
       "array([15.62388499])"
      ]
     },
     "execution_count": 55,
     "metadata": {},
     "output_type": "execute_result"
    }
   ],
   "source": [
    "final_model.predict(campaign_poly)"
   ]
  },
  {
   "cell_type": "code",
   "execution_count": 56,
   "id": "779a93cf",
   "metadata": {},
   "outputs": [
    {
     "data": {
      "text/plain": [
       "15.130500000000005"
      ]
     },
     "execution_count": 56,
     "metadata": {},
     "output_type": "execute_result"
    }
   ],
   "source": [
    "df['Sales'].mean()"
   ]
  },
  {
   "cell_type": "markdown",
   "id": "e54bccdd",
   "metadata": {},
   "source": [
    "# Lasso and Ridge and ElasticNet"
   ]
  },
  {
   "cell_type": "code",
   "execution_count": 57,
   "id": "21fe42cc",
   "metadata": {},
   "outputs": [],
   "source": [
    "df = pd.read_csv(\"Advertising.csv\")\n",
    "X = df.drop('Sales',axis=1)\n",
    "y = df['Sales']"
   ]
  },
  {
   "cell_type": "code",
   "execution_count": 58,
   "id": "a38940ee",
   "metadata": {},
   "outputs": [],
   "source": [
    "from sklearn.preprocessing import PolynomialFeatures"
   ]
  },
  {
   "cell_type": "code",
   "execution_count": 59,
   "id": "0e102603",
   "metadata": {},
   "outputs": [],
   "source": [
    "polynomial_converter = PolynomialFeatures(degree=3,include_bias=False)"
   ]
  },
  {
   "cell_type": "code",
   "execution_count": 60,
   "id": "a2e6c077",
   "metadata": {},
   "outputs": [],
   "source": [
    "poly_features = polynomial_converter.fit_transform(X)"
   ]
  },
  {
   "cell_type": "code",
   "execution_count": 61,
   "id": "72eb9955",
   "metadata": {},
   "outputs": [],
   "source": [
    "from sklearn.model_selection import train_test_split"
   ]
  },
  {
   "cell_type": "code",
   "execution_count": 62,
   "id": "28d218bb",
   "metadata": {},
   "outputs": [],
   "source": [
    "X_train, X_test, y_train, y_test = train_test_split(poly_features, y, test_size=0.3, random_state=101)"
   ]
  },
  {
   "cell_type": "code",
   "execution_count": 63,
   "id": "c4154437",
   "metadata": {},
   "outputs": [],
   "source": [
    "from sklearn.preprocessing import StandardScaler"
   ]
  },
  {
   "cell_type": "code",
   "execution_count": 64,
   "id": "99b663ca",
   "metadata": {},
   "outputs": [],
   "source": [
    "scaler = StandardScaler()"
   ]
  },
  {
   "cell_type": "code",
   "execution_count": 65,
   "id": "57b47dc2",
   "metadata": {},
   "outputs": [],
   "source": [
    "X_train = scaler.fit_transform(X_train)"
   ]
  },
  {
   "cell_type": "code",
   "execution_count": 66,
   "id": "12043cb1",
   "metadata": {},
   "outputs": [],
   "source": [
    "X_test = scaler.transform(X_test)"
   ]
  },
  {
   "cell_type": "code",
   "execution_count": 67,
   "id": "02b00470",
   "metadata": {},
   "outputs": [],
   "source": [
    "from sklearn.linear_model import Ridge"
   ]
  },
  {
   "cell_type": "code",
   "execution_count": 68,
   "id": "86f34fce",
   "metadata": {},
   "outputs": [],
   "source": [
    "ridge_model = Ridge(alpha=10)"
   ]
  },
  {
   "cell_type": "code",
   "execution_count": 69,
   "id": "0d319c40",
   "metadata": {},
   "outputs": [
    {
     "data": {
      "text/plain": [
       "Ridge(alpha=10)"
      ]
     },
     "execution_count": 69,
     "metadata": {},
     "output_type": "execute_result"
    }
   ],
   "source": [
    "ridge_model.fit(X_train,y_train)"
   ]
  },
  {
   "cell_type": "code",
   "execution_count": 70,
   "id": "9724cade",
   "metadata": {},
   "outputs": [],
   "source": [
    "test_predictions = ridge_model.predict(X_test)"
   ]
  },
  {
   "cell_type": "code",
   "execution_count": 71,
   "id": "9cd23470",
   "metadata": {},
   "outputs": [],
   "source": [
    "from sklearn.metrics import mean_absolute_error,mean_squared_error"
   ]
  },
  {
   "cell_type": "code",
   "execution_count": 72,
   "id": "5e5cc83d",
   "metadata": {},
   "outputs": [],
   "source": [
    "MAE = mean_absolute_error(y_test,test_predictions)\n",
    "MSE = mean_squared_error(y_test,test_predictions)\n",
    "RMSE = np.sqrt(MSE)"
   ]
  },
  {
   "cell_type": "code",
   "execution_count": 73,
   "id": "6e9c8ac8",
   "metadata": {},
   "outputs": [
    {
     "data": {
      "text/plain": [
       "1.2647251183134847"
      ]
     },
     "execution_count": 73,
     "metadata": {},
     "output_type": "execute_result"
    }
   ],
   "source": [
    "MAE"
   ]
  },
  {
   "cell_type": "code",
   "execution_count": 74,
   "id": "6c46cd99",
   "metadata": {},
   "outputs": [
    {
     "data": {
      "text/plain": [
       "2.556288227040516"
      ]
     },
     "execution_count": 74,
     "metadata": {},
     "output_type": "execute_result"
    }
   ],
   "source": [
    "MSE"
   ]
  },
  {
   "cell_type": "code",
   "execution_count": 75,
   "id": "4581cd5d",
   "metadata": {},
   "outputs": [
    {
     "data": {
      "text/plain": [
       "1.5988396501965154"
      ]
     },
     "execution_count": 75,
     "metadata": {},
     "output_type": "execute_result"
    }
   ],
   "source": [
    "RMSE"
   ]
  },
  {
   "cell_type": "code",
   "execution_count": 76,
   "id": "0b91789b",
   "metadata": {},
   "outputs": [
    {
     "data": {
      "text/plain": [
       "1.0941696498205509"
      ]
     },
     "execution_count": 76,
     "metadata": {},
     "output_type": "execute_result"
    }
   ],
   "source": [
    "# Training Set Performance\n",
    "train_predictions = ridge_model.predict(X_train)\n",
    "MAE = mean_absolute_error(y_train,train_predictions)\n",
    "MAE"
   ]
  },
  {
   "cell_type": "code",
   "execution_count": 77,
   "id": "b75b4f65",
   "metadata": {},
   "outputs": [],
   "source": [
    "from sklearn.linear_model import Lasso"
   ]
  },
  {
   "cell_type": "code",
   "execution_count": 78,
   "id": "4f57b3f4",
   "metadata": {},
   "outputs": [],
   "source": [
    "lasso_model = Lasso(alpha=10)"
   ]
  },
  {
   "cell_type": "code",
   "execution_count": 79,
   "id": "79b1a2b3",
   "metadata": {},
   "outputs": [
    {
     "data": {
      "text/plain": [
       "Lasso(alpha=10)"
      ]
     },
     "execution_count": 79,
     "metadata": {},
     "output_type": "execute_result"
    }
   ],
   "source": [
    "lasso_model.fit(X_train,y_train)"
   ]
  },
  {
   "cell_type": "code",
   "execution_count": 80,
   "id": "5b3c9276",
   "metadata": {},
   "outputs": [],
   "source": [
    "test_predictions = lasso_model.predict(X_test)"
   ]
  },
  {
   "cell_type": "code",
   "execution_count": 81,
   "id": "9b656740",
   "metadata": {},
   "outputs": [],
   "source": [
    "MAE = mean_absolute_error(y_test,test_predictions)\n",
    "MSE = mean_squared_error(y_test,test_predictions)\n",
    "RMSE = np.sqrt(MSE)"
   ]
  },
  {
   "cell_type": "code",
   "execution_count": 82,
   "id": "f68ba46d",
   "metadata": {},
   "outputs": [
    {
     "data": {
      "text/plain": [
       "4.481142857142857"
      ]
     },
     "execution_count": 82,
     "metadata": {},
     "output_type": "execute_result"
    }
   ],
   "source": [
    "MAE"
   ]
  },
  {
   "cell_type": "code",
   "execution_count": 83,
   "id": "a51f9e44",
   "metadata": {},
   "outputs": [
    {
     "data": {
      "text/plain": [
       "28.63766598639456"
      ]
     },
     "execution_count": 83,
     "metadata": {},
     "output_type": "execute_result"
    }
   ],
   "source": [
    "MSE"
   ]
  },
  {
   "cell_type": "code",
   "execution_count": 84,
   "id": "267b8deb",
   "metadata": {},
   "outputs": [
    {
     "data": {
      "text/plain": [
       "5.351417194201416"
      ]
     },
     "execution_count": 84,
     "metadata": {},
     "output_type": "execute_result"
    }
   ],
   "source": [
    "RMSE"
   ]
  },
  {
   "cell_type": "code",
   "execution_count": 85,
   "id": "1a9c1b83",
   "metadata": {},
   "outputs": [],
   "source": [
    "from sklearn.linear_model import ElasticNet"
   ]
  },
  {
   "cell_type": "code",
   "execution_count": 86,
   "id": "915b2133",
   "metadata": {},
   "outputs": [],
   "source": [
    "ElasticNet_model= ElasticNet(alpha=10)"
   ]
  },
  {
   "cell_type": "code",
   "execution_count": 87,
   "id": "b5a39579",
   "metadata": {},
   "outputs": [
    {
     "data": {
      "text/plain": [
       "ElasticNet(alpha=10)"
      ]
     },
     "execution_count": 87,
     "metadata": {},
     "output_type": "execute_result"
    }
   ],
   "source": [
    "ElasticNet_model.fit(X_train,y_train)"
   ]
  },
  {
   "cell_type": "code",
   "execution_count": 88,
   "id": "687b9e62",
   "metadata": {},
   "outputs": [],
   "source": [
    "test_predictions = ElasticNet_model.predict(X_test)"
   ]
  },
  {
   "cell_type": "code",
   "execution_count": 89,
   "id": "b4b6df77",
   "metadata": {},
   "outputs": [],
   "source": [
    "MAE = mean_absolute_error(y_test,test_predictions)\n",
    "MSE = mean_squared_error(y_test,test_predictions)\n",
    "RMSE = np.sqrt(MSE)"
   ]
  },
  {
   "cell_type": "code",
   "execution_count": 90,
   "id": "46957cec",
   "metadata": {},
   "outputs": [
    {
     "data": {
      "text/plain": [
       "4.481142857142857"
      ]
     },
     "execution_count": 90,
     "metadata": {},
     "output_type": "execute_result"
    }
   ],
   "source": [
    "MAE"
   ]
  },
  {
   "cell_type": "code",
   "execution_count": 91,
   "id": "6507e294",
   "metadata": {},
   "outputs": [
    {
     "data": {
      "text/plain": [
       "28.63766598639456"
      ]
     },
     "execution_count": 91,
     "metadata": {},
     "output_type": "execute_result"
    }
   ],
   "source": [
    "MSE"
   ]
  },
  {
   "cell_type": "code",
   "execution_count": 92,
   "id": "5c00aebb",
   "metadata": {},
   "outputs": [
    {
     "data": {
      "text/plain": [
       "5.351417194201416"
      ]
     },
     "execution_count": 92,
     "metadata": {},
     "output_type": "execute_result"
    }
   ],
   "source": [
    "RMSE"
   ]
  },
  {
   "cell_type": "code",
   "execution_count": null,
   "id": "c75068ed",
   "metadata": {},
   "outputs": [],
   "source": []
  }
 ],
 "metadata": {
  "kernelspec": {
   "display_name": "Python 3 (ipykernel)",
   "language": "python",
   "name": "python3"
  },
  "language_info": {
   "codemirror_mode": {
    "name": "ipython",
    "version": 3
   },
   "file_extension": ".py",
   "mimetype": "text/x-python",
   "name": "python",
   "nbconvert_exporter": "python",
   "pygments_lexer": "ipython3",
   "version": "3.9.7"
  }
 },
 "nbformat": 4,
 "nbformat_minor": 5
}
